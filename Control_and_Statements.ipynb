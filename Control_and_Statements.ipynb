{
  "nbformat": 4,
  "nbformat_minor": 0,
  "metadata": {
    "colab": {
      "name": "Control and Statements.ipynb",
      "private_outputs": true,
      "provenance": [],
      "authorship_tag": "ABX9TyNuMdKq234qw9n0kj7tlTzl",
      "include_colab_link": true
    },
    "kernelspec": {
      "name": "python3",
      "display_name": "Python 3"
    },
    "language_info": {
      "name": "python"
    }
  },
  "cells": [
    {
      "cell_type": "markdown",
      "metadata": {
        "id": "view-in-github",
        "colab_type": "text"
      },
      "source": [
        "<a href=\"https://colab.research.google.com/github/Jyeiii/Numerical-Methods-58012/blob/main/Control_and_Statements.ipynb\" target=\"_parent\"><img src=\"https://colab.research.google.com/assets/colab-badge.svg\" alt=\"Open In Colab\"/></a>"
      ]
    },
    {
      "cell_type": "markdown",
      "source": [
        "##If Statement"
      ],
      "metadata": {
        "id": "Qd6fDEvRbocm"
      }
    },
    {
      "cell_type": "code",
      "execution_count": null,
      "metadata": {
        "id": "l62KrmKgbiGe"
      },
      "outputs": [],
      "source": [
        "a = 12\n",
        "b = 100\n",
        "\n",
        "if b > a:\n",
        "  print (\"b is greater than a\")"
      ]
    },
    {
      "cell_type": "markdown",
      "source": [
        "##Elif Statement"
      ],
      "metadata": {
        "id": "ptWKCRl4cICc"
      }
    },
    {
      "cell_type": "code",
      "source": [
        "a = 12\n",
        "b = 100\n",
        "\n",
        "if b > a:\n",
        "  print (\"b is greater than a\")\n",
        "elif a > b:\n",
        "  print (\"a is greater than a\")"
      ],
      "metadata": {
        "id": "owL1yvvFcssW"
      },
      "execution_count": null,
      "outputs": []
    },
    {
      "cell_type": "markdown",
      "source": [
        "##Else Statement"
      ],
      "metadata": {
        "id": "21ExLfHodXFf"
      }
    },
    {
      "cell_type": "code",
      "source": [
        "a = 100\n",
        "b = 100\n",
        "\n",
        "if b > a:\n",
        "  print (\"b is greater than a\")\n",
        "elif a > b:\n",
        "  print (\"a is greater than b\")\n",
        "else:\n",
        "  print (\"a is equal to b\")"
      ],
      "metadata": {
        "id": "TKsoIi8EdZNN"
      },
      "execution_count": null,
      "outputs": []
    },
    {
      "cell_type": "markdown",
      "source": [
        "##Short hand If Statement"
      ],
      "metadata": {
        "id": "3QAVwjamd9V3"
      }
    },
    {
      "cell_type": "code",
      "source": [
        "a = 12\n",
        "b = 100\n",
        "\n",
        "if b > a: print (\"b is greater than a\")"
      ],
      "metadata": {
        "id": "coU0rQlMd_hU"
      },
      "execution_count": null,
      "outputs": []
    },
    {
      "cell_type": "markdown",
      "source": [
        "##Short hand If.. Else Statement"
      ],
      "metadata": {
        "id": "qf7Au1dSePsR"
      }
    },
    {
      "cell_type": "code",
      "source": [
        "c = 35\n",
        "d = 40\n",
        "\n",
        "print (\"c is greater than d\") if c > d else print (\"d is greater than c\")"
      ],
      "metadata": {
        "id": "-lClCz7EeTvu"
      },
      "execution_count": null,
      "outputs": []
    },
    {
      "cell_type": "markdown",
      "source": [
        "##And-Both Conditions are true"
      ],
      "metadata": {
        "id": "44Y9wDRhfM7c"
      }
    },
    {
      "cell_type": "code",
      "source": [
        "c = 35\n",
        "d = 40\n",
        "e = 30\n",
        "\n",
        "if d > c and c > e:\n",
        "  print (\"Both conditions must be True\")"
      ],
      "metadata": {
        "id": "xOlXze6GfSNL"
      },
      "execution_count": null,
      "outputs": []
    },
    {
      "cell_type": "markdown",
      "source": [
        "##Or-if at least one of the Conditions is true"
      ],
      "metadata": {
        "id": "hitQmSAtfaic"
      }
    },
    {
      "cell_type": "code",
      "source": [
        "c = 35\n",
        "d = 40\n",
        "e = 30\n",
        "\n",
        "if d > c or e > c:\n",
        "  print (\"If one of the two operands is True\")"
      ],
      "metadata": {
        "id": "kcsZw6F7gBDY"
      },
      "execution_count": null,
      "outputs": []
    },
    {
      "cell_type": "markdown",
      "source": [
        "##Nested If"
      ],
      "metadata": {
        "id": "xvH818TBg8Wi"
      }
    },
    {
      "cell_type": "code",
      "source": [
        "x = int(input())\n",
        "\n",
        "if x > 10:\n",
        "  print (\"x is above 10\")\n",
        "  if x > 20:\n",
        "    print (\"x is above 20\")\n",
        "    if x > 30:\n",
        "      print (\"x is above 30\")\n",
        "      if x > 40:\n",
        "        print (\"x is above 40\")\n",
        "      else:\n",
        "        print (\"x is not above 40\")\n",
        "    else:\n",
        "        print (\"x is not above 30\")\n",
        "  else:\n",
        "    print (\"x is not above 20\")"
      ],
      "metadata": {
        "id": "lqB9x7rig-AT"
      },
      "execution_count": null,
      "outputs": []
    },
    {
      "cell_type": "markdown",
      "source": [
        "##Application 1\n",
        "Write a program that determines if the input age is qualified to vote or not. The qualifying age is 18 years old and above."
      ],
      "metadata": {
        "id": "A-T-5LcbijbD"
      }
    },
    {
      "cell_type": "code",
      "source": [
        "age = int(input())\n",
        "\n",
        "if age >= 18:\n",
        "  print (\"You are qualified to vote!\")\n",
        "else:\n",
        "  print (\"You are not qualified to vote.\")"
      ],
      "metadata": {
        "id": "50LDpCItlDCd"
      },
      "execution_count": null,
      "outputs": []
    },
    {
      "cell_type": "markdown",
      "source": [
        "##Application 2\n",
        "Write a program that determines if the input number is POSITIVE, NEGATIVE, or Zero."
      ],
      "metadata": {
        "id": "P8zyb2lTjsLw"
      }
    },
    {
      "cell_type": "code",
      "source": [
        "x = int(input())\n",
        "\n",
        "if x >= 1:\n",
        "  print (\"Positive\")\n",
        "elif x <= -1:\n",
        "  print (\"Negative\")\n",
        "else:\n",
        "  print(\"Zero\")"
      ],
      "metadata": {
        "id": "24sAwdL1l4_z"
      },
      "execution_count": null,
      "outputs": []
    },
    {
      "cell_type": "markdown",
      "source": [
        "##Application 3"
      ],
      "metadata": {
        "id": "f1Ex0iyIWIBE"
      }
    },
    {
      "cell_type": "code",
      "source": [
        "grade = int(input())\n",
        "\n",
        "if grade >= 70:\n",
        "  print (\"Passed\")\n",
        "elif grade >= 64:\n",
        "    print (\"Remedial\")\n",
        "else:\n",
        "    print (\"Failed\")"
      ],
      "metadata": {
        "id": "XFXiQuU-e9pI"
      },
      "execution_count": null,
      "outputs": []
    },
    {
      "cell_type": "markdown",
      "source": [
        "##For Loop Statement"
      ],
      "metadata": {
        "id": "SiTwJgxrkPOJ"
      }
    },
    {
      "cell_type": "code",
      "source": [
        "week = [\"Sunday\", \"Monday\", \"Tuesday\", \"Wednesday\", \"Thursday\", \"Friday\", \"Saturday\"]\n",
        "\n",
        "for x in week:\n",
        "  print (x)"
      ],
      "metadata": {
        "id": "F99blWQjkZxI"
      },
      "execution_count": null,
      "outputs": []
    },
    {
      "cell_type": "markdown",
      "source": [
        "##The break Statement"
      ],
      "metadata": {
        "id": "npglGhUSlIyp"
      }
    },
    {
      "cell_type": "code",
      "source": [
        "week = [\"Sunday\", \"Monday\", \"Tuesday\", \"Wednesday\", \"Thursday\", \"Friday\", \"Saturday\"]\n",
        "\n",
        "for x in week:\n",
        "  print (x)\n",
        "\n",
        "  if x == \"Thursday\":\n",
        "    break\n",
        "\n"
      ],
      "metadata": {
        "id": "IU4tfA-ilKk5"
      },
      "execution_count": null,
      "outputs": []
    },
    {
      "cell_type": "markdown",
      "source": [
        "##While Loop"
      ],
      "metadata": {
        "id": "JKVw_fcilocR"
      }
    },
    {
      "cell_type": "code",
      "source": [
        "y = 3\n",
        "\n",
        "while y < 6:\n",
        "  print (y)\n",
        "  if y == 3:\n",
        "    break\n",
        "  y += 1 #same as y=y +1"
      ],
      "metadata": {
        "id": "WosFvD2IlrEl"
      },
      "execution_count": null,
      "outputs": []
    }
  ]
}